{
 "cells": [
  {
   "cell_type": "markdown",
   "id": "1b4026bb",
   "metadata": {},
   "source": [
    "# linear regression（线性回归）\n",
    "## 1. 单变量梯度下降\n",
    "### 1.1 plot data"
   ]
  },
  {
   "cell_type": "code",
   "execution_count": 1,
   "id": "962a1bfd",
   "metadata": {},
   "outputs": [],
   "source": [
    "import numpy as np\n",
    "import pandas as pd\n",
    "import seaborn as sns\n",
    "import tensorflow as tf\n",
    "import matplotlib.pyplot as plt"
   ]
  },
  {
   "cell_type": "code",
   "execution_count": 2,
   "id": "5e417de5",
   "metadata": {},
   "outputs": [],
   "source": [
    "df = pd.read_csv(\"ex1data1.txt\", names = ['population', 'profit'])"
   ]
  },
  {
   "cell_type": "code",
   "execution_count": 3,
   "id": "0da271dd",
   "metadata": {
    "scrolled": true
   },
   "outputs": [
    {
     "data": {
      "text/html": [
       "<div>\n",
       "<style scoped>\n",
       "    .dataframe tbody tr th:only-of-type {\n",
       "        vertical-align: middle;\n",
       "    }\n",
       "\n",
       "    .dataframe tbody tr th {\n",
       "        vertical-align: top;\n",
       "    }\n",
       "\n",
       "    .dataframe thead th {\n",
       "        text-align: right;\n",
       "    }\n",
       "</style>\n",
       "<table border=\"1\" class=\"dataframe\">\n",
       "  <thead>\n",
       "    <tr style=\"text-align: right;\">\n",
       "      <th></th>\n",
       "      <th>population</th>\n",
       "      <th>profit</th>\n",
       "    </tr>\n",
       "  </thead>\n",
       "  <tbody>\n",
       "    <tr>\n",
       "      <th>0</th>\n",
       "      <td>6.1101</td>\n",
       "      <td>17.5920</td>\n",
       "    </tr>\n",
       "    <tr>\n",
       "      <th>1</th>\n",
       "      <td>5.5277</td>\n",
       "      <td>9.1302</td>\n",
       "    </tr>\n",
       "    <tr>\n",
       "      <th>2</th>\n",
       "      <td>8.5186</td>\n",
       "      <td>13.6620</td>\n",
       "    </tr>\n",
       "    <tr>\n",
       "      <th>3</th>\n",
       "      <td>7.0032</td>\n",
       "      <td>11.8540</td>\n",
       "    </tr>\n",
       "    <tr>\n",
       "      <th>4</th>\n",
       "      <td>5.8598</td>\n",
       "      <td>6.8233</td>\n",
       "    </tr>\n",
       "  </tbody>\n",
       "</table>\n",
       "</div>"
      ],
      "text/plain": [
       "   population   profit\n",
       "0      6.1101  17.5920\n",
       "1      5.5277   9.1302\n",
       "2      8.5186  13.6620\n",
       "3      7.0032  11.8540\n",
       "4      5.8598   6.8233"
      ]
     },
     "execution_count": 3,
     "metadata": {},
     "output_type": "execute_result"
    }
   ],
   "source": [
    "df.head(5)"
   ]
  },
  {
   "cell_type": "code",
   "execution_count": 4,
   "id": "ad9c7974",
   "metadata": {},
   "outputs": [
    {
     "data": {
      "image/png": "[encoded data removed]",
      "text/plain": [
       "<Figure size 360x360 with 1 Axes>"
      ]
     },
     "metadata": {},
     "output_type": "display_data"
    }
   ],
   "source": [
    "sns.set(context=\"notebook\", style=\"whitegrid\", palette=\"dark\")\n",
    "sns.lmplot(x='population', y='profit', data=df, height=5, fit_reg = False)\n",
    "plt.show()"
   ]
  },
  {
   "cell_type": "markdown",
   "id": "c49b274c",
   "metadata": {},
   "source": [
    "多变量的假设h表示为：\n",
    "$$ h_{\\theta}(x) = \\theta_0 + \\theta_1x_1 + \\theta_2x_2 + ... + \\theta_nx_n $$\n",
    "这个公式中有n+1个参数和n个变量，为了使公式能够简化一些，引入$x_0 = 1$，则公式转换为：\n",
    "$$ h_{\\theta}(x) = \\theta_0x_0 + \\theta_1x_1 + \\theta_2x_2 + ... + \\theta_nx_n $$\n",
    "此时模型中的参数是一个$n+1$维的向量，任何一个训练实例也都是$n+1$维的向量，特征矩阵X的维度是$m*(n+1)$。因此公式可以简化为：\n",
    "$$ h_{\\theta}(x) = \\theta^TX $$\n",
    "其中，上标T代表矩阵转置。"
   ]
  },
  {
   "cell_type": "code",
   "execution_count": 5,
   "id": "a5c880e0",
   "metadata": {},
   "outputs": [],
   "source": [
    "def get_X(df): # read features\n",
    "    ones = pd.DataFrame({'ones': np.ones(df.shape[0])})\n",
    "    data = pd.concat([ones, df], axis = 1)\n",
    "    return data.iloc[:,:-1].values\n",
    "\n",
    "def get_y(df): # read label\n",
    "    return df.iloc[:,-1].values\n",
    "\n",
    "def normalize_feature(df):\n",
    "    return df.apply(lambda column: (column - column.mean())/column.std()) # feature scaling"
   ]
  },
  {
   "cell_type": "markdown",
   "id": "e36f963f",
   "metadata": {},
   "source": [
    "### 1.2 计算代价函数\n",
    "$$ J(\\theta) = \\frac{1}{2m}\\sum_{i=1}^m\\left(h_{\\theta}\\left(x^{(i)}\\right)-y^{(i)}\\right)^2 $$\n",
    "其中，\n",
    "$$ h_{\\theta}(x) = \\theta^TX = \\theta_0 + \\theta_1x_1 + \\theta_2x_2 + ... + \\theta_nx_n $$"
   ]
  },
  {
   "cell_type": "code",
   "execution_count": 6,
   "id": "a46694b6",
   "metadata": {},
   "outputs": [],
   "source": [
    "X = get_X(df)\n",
    "y = get_y(df)\n",
    "theta = np.zeros(X.shape[1])"
   ]
  },
  {
   "cell_type": "code",
   "execution_count": 7,
   "id": "7bb05962",
   "metadata": {},
   "outputs": [],
   "source": [
    "def compute_cost(X, y, theta):\n",
    "    inner = X@theta - y\n",
    "    return (inner**2).sum()/(2*len(X))"
   ]
  },
  {
   "cell_type": "code",
   "execution_count": 8,
   "id": "1799745e",
   "metadata": {},
   "outputs": [
    {
     "data": {
      "text/plain": [
       "32.072733877455676"
      ]
     },
     "execution_count": 8,
     "metadata": {},
     "output_type": "execute_result"
    }
   ],
   "source": [
    "compute_cost(X, y, theta)"
   ]
  },
  {
   "cell_type": "markdown",
   "id": "dd094485",
   "metadata": {},
   "source": [
    "### 1.3 批量梯度下降（batch gradient decent）\n",
    "$$ \\theta_j:=\\theta_j - \\alpha\\frac{\\partial}{\\partial\\theta_j}J(\\theta) $$\n",
    "其中，\n",
    "$$ \\frac{\\partial}{\\partial\\theta_j}J(\\theta) = \\frac{1}{m}\\sum_{i = 1}^m\\left(h_{\\theta}\\left(x^{(i)}\\right) - y^{(i)}\\right)x_j^{(i)} $$\n",
    "其中，$ x_0 = 1 $"
   ]
  },
  {
   "cell_type": "code",
   "execution_count": 9,
   "id": "888780cd",
   "metadata": {},
   "outputs": [],
   "source": [
    "def gradient(X, y, theta):\n",
    "    m = len(X)\n",
    "    inner = X.T @ (X @ theta - y)\n",
    "    return inner/m"
   ]
  },
  {
   "cell_type": "code",
   "execution_count": 10,
   "id": "377b6ec1",
   "metadata": {},
   "outputs": [],
   "source": [
    "def batch_gradient_decent(X, y, theta, epoch, alpha = 0.02):\n",
    "    cost_data = [compute_cost(X, y, theta)]\n",
    "    _theta = theta.copy()\n",
    "    for _ in range(epoch):\n",
    "        _theta = _theta - alpha * gradient(X, y, _theta)\n",
    "        cost_data.append(compute_cost(X, y, _theta))\n",
    "    return _theta, cost_data"
   ]
  },
  {
   "cell_type": "code",
   "execution_count": 11,
   "id": "6769a098",
   "metadata": {},
   "outputs": [],
   "source": [
    "epoch = 500\n",
    "final_theta, cost_data = batch_gradient_decent(X, y, theta, epoch)"
   ]
  },
  {
   "cell_type": "code",
   "execution_count": 12,
   "id": "d6a904d9",
   "metadata": {},
   "outputs": [
    {
     "data": {
      "text/plain": [
       "array([-3.24246827,  1.12740131])"
      ]
     },
     "execution_count": 12,
     "metadata": {},
     "output_type": "execute_result"
    }
   ],
   "source": [
    "final_theta"
   ]
  },
  {
   "cell_type": "code",
   "execution_count": 13,
   "id": "75c9982c",
   "metadata": {},
   "outputs": [
    {
     "data": {
      "text/plain": [
       "4.515828578882345"
      ]
     },
     "execution_count": 13,
     "metadata": {},
     "output_type": "execute_result"
    }
   ],
   "source": [
    "cost_data[-1]"
   ]
  },
  {
   "cell_type": "code",
   "execution_count": 14,
   "id": "d66b432a",
   "metadata": {},
   "outputs": [
    {
     "data": {
      "image/png": "[encoded data removed]",
      "text/plain": [
       "<Figure size 432x288 with 1 Axes>"
      ]
     },
     "metadata": {},
     "output_type": "display_data"
    }
   ],
   "source": [
    "fig, ax = plt.subplots()\n",
    "ax.plot(cost_data, 'g-', label = 'cost decent')\n",
    "ax.plot(cost_data[:5], 'bo', label = 'key point')\n",
    "ax.legend(loc = 0)\n",
    "ax.set_xlabel('epoch')\n",
    "ax.set_ylabel('cost')\n",
    "plt.show()"
   ]
  },
  {
   "cell_type": "code",
   "execution_count": 15,
   "id": "2de1337c",
   "metadata": {},
   "outputs": [
    {
     "data": {
      "image/png": "[encoded data removed]",
      "text/plain": [
       "<Figure size 720x432 with 1 Axes>"
      ]
     },
     "metadata": {},
     "output_type": "display_data"
    }
   ],
   "source": [
    "plt.figure(figsize = (10,6))\n",
    "plt.scatter(X[:,1], y)\n",
    "plt.plot(X[:,1],X @ final_theta)\n",
    "plt.show()"
   ]
  },
  {
   "cell_type": "markdown",
   "id": "0b458001",
   "metadata": {},
   "source": [
    "## 2. 选修章节\n",
    "### 2.1 读取数据"
   ]
  },
  {
   "cell_type": "code",
   "execution_count": 16,
   "id": "94e08234",
   "metadata": {},
   "outputs": [
    {
     "data": {
      "text/html": [
       "<div>\n",
       "<style scoped>\n",
       "    .dataframe tbody tr th:only-of-type {\n",
       "        vertical-align: middle;\n",
       "    }\n",
       "\n",
       "    .dataframe tbody tr th {\n",
       "        vertical-align: top;\n",
       "    }\n",
       "\n",
       "    .dataframe thead th {\n",
       "        text-align: right;\n",
       "    }\n",
       "</style>\n",
       "<table border=\"1\" class=\"dataframe\">\n",
       "  <thead>\n",
       "    <tr style=\"text-align: right;\">\n",
       "      <th></th>\n",
       "      <th>square</th>\n",
       "      <th>bedrooms</th>\n",
       "      <th>price</th>\n",
       "    </tr>\n",
       "  </thead>\n",
       "  <tbody>\n",
       "    <tr>\n",
       "      <th>0</th>\n",
       "      <td>2104</td>\n",
       "      <td>3</td>\n",
       "      <td>399900</td>\n",
       "    </tr>\n",
       "    <tr>\n",
       "      <th>1</th>\n",
       "      <td>1600</td>\n",
       "      <td>3</td>\n",
       "      <td>329900</td>\n",
       "    </tr>\n",
       "    <tr>\n",
       "      <th>2</th>\n",
       "      <td>2400</td>\n",
       "      <td>3</td>\n",
       "      <td>369000</td>\n",
       "    </tr>\n",
       "    <tr>\n",
       "      <th>3</th>\n",
       "      <td>1416</td>\n",
       "      <td>2</td>\n",
       "      <td>232000</td>\n",
       "    </tr>\n",
       "    <tr>\n",
       "      <th>4</th>\n",
       "      <td>3000</td>\n",
       "      <td>4</td>\n",
       "      <td>539900</td>\n",
       "    </tr>\n",
       "  </tbody>\n",
       "</table>\n",
       "</div>"
      ],
      "text/plain": [
       "   square  bedrooms   price\n",
       "0    2104         3  399900\n",
       "1    1600         3  329900\n",
       "2    2400         3  369000\n",
       "3    1416         2  232000\n",
       "4    3000         4  539900"
      ]
     },
     "execution_count": 16,
     "metadata": {},
     "output_type": "execute_result"
    }
   ],
   "source": [
    "raw_data = pd.read_csv('ex1data2.txt', names = ['square', 'bedrooms', 'price'])\n",
    "raw_data.head()"
   ]
  },
  {
   "cell_type": "markdown",
   "id": "f0dcda20",
   "metadata": {},
   "source": [
    "### 2.2 数据标准化"
   ]
  },
  {
   "cell_type": "code",
   "execution_count": 17,
   "id": "0b948c83",
   "metadata": {},
   "outputs": [],
   "source": [
    "def normalize_features(df):\n",
    "    return df.apply(lambda column : (column - column.mean())/column.std())"
   ]
  },
  {
   "cell_type": "code",
   "execution_count": 18,
   "id": "b2981cb5",
   "metadata": {},
   "outputs": [
    {
     "data": {
      "text/html": [
       "<div>\n",
       "<style scoped>\n",
       "    .dataframe tbody tr th:only-of-type {\n",
       "        vertical-align: middle;\n",
       "    }\n",
       "\n",
       "    .dataframe tbody tr th {\n",
       "        vertical-align: top;\n",
       "    }\n",
       "\n",
       "    .dataframe thead th {\n",
       "        text-align: right;\n",
       "    }\n",
       "</style>\n",
       "<table border=\"1\" class=\"dataframe\">\n",
       "  <thead>\n",
       "    <tr style=\"text-align: right;\">\n",
       "      <th></th>\n",
       "      <th>square</th>\n",
       "      <th>bedrooms</th>\n",
       "      <th>price</th>\n",
       "    </tr>\n",
       "  </thead>\n",
       "  <tbody>\n",
       "    <tr>\n",
       "      <th>0</th>\n",
       "      <td>0.130010</td>\n",
       "      <td>-0.223675</td>\n",
       "      <td>0.475747</td>\n",
       "    </tr>\n",
       "    <tr>\n",
       "      <th>1</th>\n",
       "      <td>-0.504190</td>\n",
       "      <td>-0.223675</td>\n",
       "      <td>-0.084074</td>\n",
       "    </tr>\n",
       "    <tr>\n",
       "      <th>2</th>\n",
       "      <td>0.502476</td>\n",
       "      <td>-0.223675</td>\n",
       "      <td>0.228626</td>\n",
       "    </tr>\n",
       "    <tr>\n",
       "      <th>3</th>\n",
       "      <td>-0.735723</td>\n",
       "      <td>-1.537767</td>\n",
       "      <td>-0.867025</td>\n",
       "    </tr>\n",
       "    <tr>\n",
       "      <th>4</th>\n",
       "      <td>1.257476</td>\n",
       "      <td>1.090417</td>\n",
       "      <td>1.595389</td>\n",
       "    </tr>\n",
       "  </tbody>\n",
       "</table>\n",
       "</div>"
      ],
      "text/plain": [
       "     square  bedrooms     price\n",
       "0  0.130010 -0.223675  0.475747\n",
       "1 -0.504190 -0.223675 -0.084074\n",
       "2  0.502476 -0.223675  0.228626\n",
       "3 -0.735723 -1.537767 -0.867025\n",
       "4  1.257476  1.090417  1.595389"
      ]
     },
     "execution_count": 18,
     "metadata": {},
     "output_type": "execute_result"
    }
   ],
   "source": [
    "data = normalize_features(raw_data)\n",
    "data.head()"
   ]
  },
  {
   "cell_type": "markdown",
   "id": "ed317c63",
   "metadata": {},
   "source": [
    "### 2.3 多变量批量梯度下降（multi-variables batch gredient decent）"
   ]
  },
  {
   "cell_type": "code",
   "execution_count": 19,
   "id": "6917a4a4",
   "metadata": {},
   "outputs": [],
   "source": [
    "X = get_X(data)\n",
    "y = get_y(data)\n",
    "theta = np.zeros(X.shape[1])"
   ]
  },
  {
   "cell_type": "code",
   "execution_count": 20,
   "id": "5422f0be",
   "metadata": {},
   "outputs": [],
   "source": [
    "epoch = 500\n",
    "alpha = 0.01\n",
    "final_theta1, cost = batch_gradient_decent(X, y, theta, epoch, alpha)"
   ]
  },
  {
   "cell_type": "code",
   "execution_count": 21,
   "id": "2fe0daf9",
   "metadata": {},
   "outputs": [
    {
     "data": {
      "image/png": "[encoded data removed]",
      "text/plain": [
       "<Figure size 576x360 with 1 Axes>"
      ]
     },
     "metadata": {},
     "output_type": "display_data"
    }
   ],
   "source": [
    "plt.figure(figsize = (8, 5))\n",
    "plt.plot(cost)\n",
    "plt.xlabel('epoch',fontsize = 16)\n",
    "plt.ylabel('cost', fontsize = 16)\n",
    "plt.show()"
   ]
  },
  {
   "cell_type": "code",
   "execution_count": 22,
   "id": "dbe4f5c8",
   "metadata": {},
   "outputs": [
    {
     "data": {
      "text/plain": [
       "array([-1.18994649e-16,  8.30383883e-01,  8.23982853e-04])"
      ]
     },
     "execution_count": 22,
     "metadata": {},
     "output_type": "execute_result"
    }
   ],
   "source": [
    "final_theta1"
   ]
  },
  {
   "cell_type": "markdown",
   "id": "504f3d2b",
   "metadata": {},
   "source": [
    "### 2.4 学习率（learning rate）"
   ]
  },
  {
   "cell_type": "code",
   "execution_count": 23,
   "id": "46ada5a1",
   "metadata": {},
   "outputs": [
    {
     "data": {
      "image/png": "[encoded data removed]",
      "text/plain": [
       "<Figure size 720x432 with 1 Axes>"
      ]
     },
     "metadata": {},
     "output_type": "display_data"
    }
   ],
   "source": [
    "epoch = 100\n",
    "alpha_group = np.array([0.00001, 0.00003, 0.0001, 0.0003, 0.001, 0.003, 0.01, 0.03, 0.1, 0.3])\n",
    "\n",
    "fig, ax = plt.subplots(figsize = (10, 6))\n",
    "\n",
    "for alpha in alpha_group:\n",
    "    final_theta, cost = batch_gradient_decent(X, y, theta, epoch, alpha)\n",
    "    ax.plot(np.arange(epoch + 1), cost, label = str(alpha))\n",
    "    \n",
    "ax.legend(bbox_to_anchor = (1, 1), loc = 2, borderaxespad = 0, fontsize = 15)\n",
    "ax.set_xlabel('epoch', fontsize = 18)\n",
    "ax.set_ylabel('cost', fontsize = 18)\n",
    "plt.show()"
   ]
  },
  {
   "cell_type": "markdown",
   "id": "c6d586c1",
   "metadata": {},
   "source": [
    "### 2.5 正规方程"
   ]
  },
  {
   "cell_type": "markdown",
   "id": "e6d39b94",
   "metadata": {},
   "source": [
    "正规方程是通过求解下面的方程找出使得代价函数最小的参数$\\theta$：\n",
    "$$ \\frac{\\partial}{\\partial\\theta_j}J\\left(\\theta_j\\right) = 0 $$\n",
    "假设我们的训练集特征矩阵为$X(包含x_0 = 1)$，训练集结果为向量$y$，则利用正规方程解出参数向量：\n",
    "$$ \\theta = \\left(X^TX\\right)^{-1}X^Ty $$\n",
    "其中，上标$T$代表矩阵转置，上标$-1$表示矩阵的逆。设矩阵$ A = X^TX $，则：\n",
    "$$ \\left(X^TX\\right)^{-1} = A^{-1} $$\n"
   ]
  },
  {
   "cell_type": "markdown",
   "id": "133b1878",
   "metadata": {},
   "source": [
    "梯度下降与正规方程的比较：\n",
    "\n",
    "梯度下降：需要选择学习率$\\alpha$，需要进行多次迭代，当特征数量$n$比较大的时候也可以比较容易解决问题，适用于各种类型的模型\n",
    "\n",
    "正规方程：不需要选择学习率$\\alpha$，一次计算得出，需要计算$\\left(X^TX\\right)^{-1}$，如果特征数量$n$较大则运算代价会非常大，因为矩阵逆的计算时间复杂度为$O(n3)$，通常来说当$n$小于10000时还是可以接受的，只适用于线性模型，不适合逻辑回归模型等其他模型。"
   ]
  },
  {
   "cell_type": "code",
   "execution_count": 24,
   "id": "6a610bfe",
   "metadata": {},
   "outputs": [],
   "source": [
    "# 正规方程\n",
    "def normalEqn(X, y):\n",
    "    theta = np.linalg.inv(X.T@X)@X.T@y\n",
    "    return theta"
   ]
  },
  {
   "cell_type": "code",
   "execution_count": 25,
   "id": "da9edc94",
   "metadata": {},
   "outputs": [
    {
     "data": {
      "text/plain": [
       "array([-1.04083409e-16,  8.84765988e-01, -5.31788197e-02])"
      ]
     },
     "execution_count": 25,
     "metadata": {},
     "output_type": "execute_result"
    }
   ],
   "source": [
    "final_theta2 = normalEqn(X, y)\n",
    "final_theta2"
   ]
  },
  {
   "cell_type": "code",
   "execution_count": null,
   "id": "84ba5ba3",
   "metadata": {},
   "outputs": [],
   "source": []
  },
  {
   "cell_type": "code",
   "execution_count": null,
   "id": "4e2f4c69",
   "metadata": {},
   "outputs": [],
   "source": []
  },
  {
   "cell_type": "code",
   "execution_count": null,
   "id": "620ee4c2",
   "metadata": {},
   "outputs": [],
   "source": []
  },
  {
   "cell_type": "code",
   "execution_count": null,
   "id": "7f6fc60b",
   "metadata": {},
   "outputs": [],
   "source": []
  },
  {
   "cell_type": "code",
   "execution_count": null,
   "id": "5b984872",
   "metadata": {},
   "outputs": [],
   "source": []
  },
  {
   "cell_type": "code",
   "execution_count": null,
   "id": "f02a9968",
   "metadata": {},
   "outputs": [],
   "source": []
  },
  {
   "cell_type": "code",
   "execution_count": null,
   "id": "0873e2ef",
   "metadata": {},
   "outputs": [],
   "source": []
  },
  {
   "cell_type": "code",
   "execution_count": null,
   "id": "b33638b8",
   "metadata": {},
   "outputs": [],
   "source": []
  },
  {
   "cell_type": "code",
   "execution_count": null,
   "id": "7b897783",
   "metadata": {},
   "outputs": [],
   "source": []
  },
  {
   "cell_type": "code",
   "execution_count": null,
   "id": "496ad0b0",
   "metadata": {},
   "outputs": [],
   "source": []
  },
  {
   "cell_type": "code",
   "execution_count": null,
   "id": "d23dc79e",
   "metadata": {},
   "outputs": [],
   "source": []
  }
 ],
 "metadata": {
  "kernelspec": {
   "display_name": "Python 3 (ipykernel)",
   "language": "python",
   "name": "python3"
  },
  "language_info": {
   "codemirror_mode": {
    "name": "ipython",
    "version": 3
   },
   "file_extension": ".py",
   "mimetype": "text/x-python",
   "name": "python",
   "nbconvert_exporter": "python",
   "pygments_lexer": "ipython3",
   "version": "3.7.11"
  }
 },
 "nbformat": 4,
 "nbformat_minor": 5
}
